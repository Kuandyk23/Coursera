
{
 "cells": [
  {
   "cell_type": "markdown",
   "metadata": {},
   "source": [
    "# Tools for Data Science "
   ]
  },
  {
   "cell_type": "markdown",
   "metadata": {},
   "source": [
    "In this notebook, Tools for Data Science ."
   ]
  },
  {
   "cell_type": "markdown",
   "metadata": {
    "tags": []
   },
   "source": [
    "### Overview\n",
    "\n",
    "Data science relies heavily on programming languages and libraries to analyze and interpret data. Here are some popular tools used by data scientists::\n",
    "1. **Programming Languages**: \n",
        "- **R**: Widely used in statistical computing and graphics. It's known for its extensive library ecosystem for data analysis and visualization. \n",
        " - **Python**: Versatile language with rich libraries for data manipulation, analysis, and visualization. It's favored for its readability and ease of use.\n",
        "- **Scala**: Used primarily for big data processing and analytics, especially in Apache Spark.\n",
        " - **SQL (Structured Query Language)**: Essential for database management and querying. Data scientists use SQL to extract and manipulate data from relational databases.\n",
        "- **Julia**: A high-level, high-performance language for numerical computing, often used for scientific computing and machine learning.\n",

    "2. **Libraries**: n",
        "- **Keras**: A deep learning API written in Python, used for building and training neural networks.\n",
        "   - **NumPy**: Fundamental package for numerical computing with Python, providing support for arrays, matrices, and mathematical functions.\n",
        "   - **pandas**: Offers data structures and tools for data manipulation and analysis. It's particularly useful for working with structured data.\n",
        "   - **Matplotlib**: A comprehensive library for creating static, interactive, and animated visualizations in Python.\n",
        "- **TensorFlow and PyTorch**: Popular open-source machine learning frameworks used for building and training machine learning models.\n",
        "   - **Scikit-learn**: A simple and efficient tool for data mining and data analysis, widely used for machine learning tasks.\n",
    "3. **Jupyter Notebooks**:\n",
        "- Originally known as IPython, Jupyter notebooks provide an interactive computing environment for creating and sharing documents that contain live code, equations, visualizations, and narrative text.\n",
        "   - JupyterLab expands upon the capabilities of Jupyter notebooks by offering a more integrated environment for data science workflows. It supports multiple file formats and allows access to various files, including Jupyter notebooks and other code and data files.\n",
        "   - Its versatility and compatibility with different programming languages make it a preferred choice for data exploration, analysis, and collaboration.\n",
   ]
  },
 
  {
   "cell_type": "markdown",
   "metadata": {},
   "source": [
    "### Below are some examples of calculations in Python."
   ]
  },
  {
   "cell_type": "code",
   "execution_count": 1,
   "metadata": {
    "tags": []
   },
   "source": [
    "# Import the necessary libraries\n",
    "import pandas as pd\n",
    "import numpy as np\n",
    "import matplotlib.pyplot as plt\n",
    "\n",
    "# Create a data set for analysis\n",
    "data = {\n",
    "    'Name': ['Alice', 'Bob', 'Charlie', 'David', 'Emma'],\n",
    "    'Age': [25, 30, 35, 40, 45],\n",
    "    'Score': [85, 92, 88, 78, 95]\n",
    "}\n",
    "\n",
    "# Convert the data into a DataFrame\n",
    "df = pd.DataFrame(data)\n",
    "\n",
    "# Print the first few rows of the DataFrame \n",
    "print(\"First few lines of DataFrame:\")\n",
    "print(df.head())\n",
    "\n",
    "# Calculate average age and average score\n",
    "mean_age = np.mean(df['Age'])\n",
    "mean_score = np.mean(df['Score'])\n",
    "\n",
    "print(\"\\nAverage age:\", mean_age)\n",
    "print(\"Average point:\", mean_score)\n",
    "\n",
    "# We build a graph of the score depending on age\n",
    "plt.figure(figsize=(8, 5))\n",
    "plt.plot(df['Age'], df['Score'], marker='o')\n",
    "plt.title('Dependence of score on age')\n",
    "plt.xlabel('Age')\n",
    "plt.ylabel('Point')\n",
    "plt.grid(True)\n",
    "plt.show()"
   ]
  },
  {
   "cell_type": "code",
   "execution_count": 2,
   "metadata": {
    "tags": []
   },
   "source": [
    "import matplotlib.pyplot as plt\n",
    "\n",
    "# Sales analysis by product category\n",
    "category_sales = sales_data.groupby('Category')['Sales'].sum().sort_values(ascending=False)\n",
    "category_sales.plot(kind='bar', color='skyblue')\n",
    "plt.title('Total Sales by Category')\n",
    "plt.xlabel('Category')\n",
    "plt.ylabel('Total Sales')\n",
    "plt.xticks(rotation=45)\n",
    "plt.show()\n",
    "\n",
    "# Sales analysis by month\n",
    "sales_data['Order Date'] = pd.to_datetime(sales_data['Order Date'])\n",
    "sales_data['Month'] = sales_data['Order Date'].dt.month\n",
    "monthly_sales = sales_data.groupby('Month')['Sales'].sum()\n",
    "monthly_sales.plot(kind='line', marker='o', color='green')\n",
    "plt.title('Monthly Sales')\n",
    "plt.xlabel('Month')\n",
    "plt.ylabel('Total Sales')\n",
    "plt.xticks(range(1, 13))\n",
    "plt.grid(True)\n",
    "plt.show()"
   ]
  },
  {
   "cell_type": "markdown",
   "metadata": {},
   "source": [
    "**Overall, these tools enable data scientists to efficiently collect,**\n",
    "**analyze and extract information from large and complex data sets, driving \n",
    "**decision-making and innovation across a variety of industries.**\n",
   
   ]


  },

 "metadata": {
  "kernelspec": {
   "display_name": "Python",
   "language": "python",
   "name": "conda-env-python-py"
  },
  "language_info": {
   "codemirror_mode": {
    "name": "ipython",
    "version": 3
   },
   "file_extension": ".py",
   "mimetype": "text/x-python",
   "name": "python",
   "nbconvert_exporter": "python",
   "pygments_lexer": "ipython3",
   "version": "3.7.12"
  }
 },
{
 "nbformat": 4,
 "nbformat_minor": 4
}

