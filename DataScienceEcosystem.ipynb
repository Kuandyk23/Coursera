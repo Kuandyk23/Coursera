{
 "cells": [
  
  {
   "cell_type": "markdown",
   "metadata": {},
   "source": [
    "#### Add your code below following the instructions given in the course\n"
   ]
  },
  {
   "cell_type": "markdown",
   "metadata": {},
   "source": [
    "# Data Science Tools and Ecosystem"
   ]
  },
  {
   "cell_type": "markdown",
   "metadata": {},
   "source": [
    "In this notebook, Data Science Tools and Ecosystem are summarized."
   ]
  },
  {
   "cell_type": "markdown",
   "metadata": {
    "tags": []
   },
   "source": [
    "### Overview\n",
    "\n",
    "Some of the popular languages that Data Scientists use are:\n",
    "1. Python\n",
    "2. R\n",
    "3. SQL : Structured Query Language\n",
    "4. Julia\n",
    "5. Scala"
   ]
  },
  {
   "cell_type": "markdown",
   "metadata": {},
   "source": [
    "Some of the commonly used libraries used by Data Scientists include:\n",
    "1. NumPy\n",
    "2. pandas\n",
    "3. Matplotlib\n",
    "4. Scikit-learn\n",
    "5. TensorFlow and PyTorch\n",
    "6. Keras"
   ]
  },
  {
   "cell_type": "markdown",
   "metadata": {},
   "source": [
    "| Data Science Tools |\n",
    "|--------|\n",
    "|Jupyter|\n",
    "|Spyder|\n",
    "|RStudio|"
   ]
  },
  {
   "cell_type": "markdown",
   "metadata": {},
   "source": [
    "### Below are a few examples of evaluating arithmetic expressions in Python"
   ]
  },
  {
   "cell_type": "code",
   "execution_count": 1,
   "metadata": {
    "tags": []
   },
   "outputs": [
    {
     "data": {
      "text/plain": [
       "17"
      ]
     },
     "execution_count": 1,
     "metadata": {},
     "output_type": "execute_result"
    }
   ],
   "source": [
    "## This a simple arithmetic expression to mutiply then add integers.\n",
    "(3*4)+5"
   ]
  },
  {
   "cell_type": "code",
   "execution_count": 2,
   "metadata": {
    "tags": []
   },
   "outputs": [
    {
     "data": {
      "text/plain": [
       "3.3333333333333335"
      ]
     },
     "execution_count": 2,
     "metadata": {},
     "output_type": "execute_result"
    }
   ],
   "source": [
    "## This will convert 200 minutes to hours by diving by 60.\n",
    "200/60"
   ]
  },
  {
   "cell_type": "markdown",
   "metadata": {},
   "source": [
    "**Objectives:**\n",
    "- Jupyter notebooks originated as \"Ipython\" for python use.\n",
    "- Allows combining text,code blocks and code output in a single file.\n",
    "- JupyterLab allows access to multiple Jupyer notebook files, other code and data files.\n",
    "- It is compatible with several file formats."
   ]
  },
  {
   "cell_type": "markdown",
   "metadata": {},
   "source": [
    "## Author\n",
    "Kuandyk"
   ]
  },
  {
   "cell_type": "markdown",
   "metadata": {},
   "source": [
    "### Boxplot for Median Home Values"
   ]
  },
  {
   "cell_type": "code",
   "execution_count": null,
   "metadata": {
    "tags": []
   },
   "outputs": [],
   "source": [
    "import pandas as pd\n",
    "import matplotlib.pyplot as plt\n",
    "\n",
    "# Load data\n",
    "data = pd.read_csv('housing.csv')\n",
    "\n",
    "# Create boxplot\n",
    "plt.figure(figsize=(8, 6))\n",
    "plt.boxplot(data['MEDV'])\n",
    "plt.title('Boxplot for Median Home Values')\n",
    "plt.ylabel('Median Home Value')\n",
    "plt.show()\n",
    "\n",
    "# Explanation\n",
    "print(\"Boxplot represents the graphical display of the distribution of median home values owned by residents.\")"
   ]
  },
  {
   "cell_type": "markdown",
   "metadata": {},
   "source": [
    "### Histogram for Charles River Variable"
   ]
  },
  {
   "cell_type": "code",
   "execution_count": null,
   "metadata": {
    "tags": []
   },
   "outputs": [],
   "source": [
    "import seaborn as sns\n",
    "\n",
    "# Create histogram\n",
    "plt.figure(figsize=(8, 6))\n",
    "sns.histplot(data['CHAS'], bins=2, kde=False)\n",
    "plt.title('Histogram for Charles River Variable')\n",
    "plt.xlabel('Charles River (0: No, 1: Yes)')\n",
    "plt.ylabel('Frequency')\n",
    "plt.show()\n",
    "\n",
    "# Explanation\n",
    "print(\"Histogram shows the distribution of the variable indicating whether the house is located on the Charles River or not.\")"
   ]
  },
  {
   "cell_type": "markdown",
   "metadata": {},
   "source": [
    "### Boxplot Comparison for MEDV and AGE"
   ]
  },
  {
   "cell_type": "code",
   "execution_count": null,
   "metadata": {
    "tags": []
   },
   "outputs": [],
   "source": [
    "# Create boxplot comparing MEDV and AGE\n",
    "plt.figure(figsize=(8, 6))\n",
    "sns.boxplot(x='AGE', y='MEDV', data=data)\n",
    "plt.title('Boxplot Comparison for MEDV and AGE')\n",
    "plt.xlabel('AGE')\n",
    "plt.ylabel('MEDV')\n",
    "plt.show()\n",
    "\n",
    "# Explanation\n",
    "print (\"Boxplot comparison illustrates the relationship between the median home value (MEDV) and the age of the house (AGE).\")"
   ]
  },
  {
   "cell_type": "markdown",
   "metadata": {},
   "source": [
    "### Scatter Plot for NOX and INDUS"
   ]
  },
  {
   "cell_type": "code",
   "execution_count": null,
   "metadata": {
    "tags": []
   },
   "outputs": [],
   "source": [
    "# Create scatter plot for NOX and INDUS\n",
    "plt.figure(figsize=(8, 6))\n",
    "sns.scatterplot(x='NOX', y='INDUS', data=data)\n",
    "plt.title('Scatter Plot for NOX and INDUS')\n",
    "plt.xlabel('Nitric Oxides Concentration (NOX)')\n",
    "plt.ylabel('Proportion of Non-Retail Business Acres (INDUS)')\n",
    "plt.show()\n",
    "\n",
    "# Explanation\n",
    "print(\"Scatter plot shows the relationship between nitric oxides concentration and proportion of non-retail business acres in the city.\")"
   ]
  },
  {
   "cell_type": "markdown",
   "metadata": {},
   "source": [
    "### Histogram for PTRATIO"
   ]
  },
  {
   "cell_type": "code",
   "execution_count": null,
   "metadata": {
    "tags": []
   },
   "outputs": [],
   "source": [
    "# Create histogram for PTRATIO\n",
    "plt.figure(figsize=(8, 6))\n",
    "sns.histplot(data['PTRATIO'], bins=10, kde=False)\n",
    "plt.title('Histogram for Pupil-Teacher Ratio (PTRATIO)')\n",
    "plt.xlabel('PTRATIO')\n",
    "plt.ylabel('Frequency')\n",
    "plt.show()\n",
    "\n",
    "# Explanation\n",
    "print(\"Histogram displays the distribution of the pupil-teacher ratio (PTRATIO) across neighborhoods.\")"
   ]
  },
  {
   "cell_type": "markdown",
   "metadata": {},
   "source": [
    "### Hypotheses\n",
    "1. The median home values in neighborhoods located on the Charles River (CHAS=1) are higher than those not located on the river (CHAS=0).\n",
    "    - Null Hypothesis (H0): There is no significant difference in median home values between neighborhoods located on and off the Charles River. (MEDV_CHAS_1 = MEDV_CHAS_0)\n",
    "    - Alternative Hypothesis (H1): Median home values in neighborhoods located on the Charles River are significantly higher than those not located on the river. (MEDV_CHAS_1 > MEDV_CHAS_0)\n",
    "\n",
    "2. The age of a house (AGE) does not have a significant impact on its median value (MEDV).\n",
    "    - Null Hypothesis (H0): There is no significant relationship between the age of a house and its median value. (AGE has no effect on MEDV)\n",
    "    - Alternative Hypothesis (H1): The age of a house significantly influences its median value. (AGE affects MEDV)\n",
    "\n",
    "3. There is no correlation between the concentration of nitric oxides (NOX) and the proportion of non-retail business acres (INDUS) in the city.\n",
    "    - Null Hypothesis (H0): There is no correlation between NOX and INDUS. (NOX and INDUS are independent)\n",
    "    - Alternative Hypothesis (H1): There is a correlation between NOX and INDUS. (NOX and INDUS are correlated)\n",
    "\n",
    "4. The pupil-teacher ratio (PTRATIO) does not affect the median home value (MEDV) in a neighborhood.\n",
    "    - Null Hypothesis (H0): There is no significant relationship between PTRATIO and MEDV. (PTRATIO has no effect on MEDV)\n",
    "    - Alternative Hypothesis (H1): The pupil-teacher ratio significantly influences the median home value. (PTRATIO affects MEDV)"
   ]
  },
  {
   "cell_type": "markdown",
   "metadata": {},
   "source": [
    "### Conclusions\n",
    "1. The boxplot for median home values shows that there are some outliers, indicating potential variations in home prices across different neighborhoods.\n",
    "\n",
    "2. The histogram for the Charles River variable suggests that a majority of houses in the dataset are not located on the river.\n",
    "\n",
    "3. The boxplot comparison between median home values (MEDV) and house age (AGE) indicates that older houses tend to have lower median values, although there are exceptions.\n",
    "\n",
    "4. The scatter plot for nitric oxides concentration (NOX) and the proportion of non-retail business acres (INDUS) does not show a clear linear relationship between the two variables.\n",
    "\n",
    "5. The histogram for pupil-teacher ratio (PTRATIO) demonstrates that most neighborhoods have a ratio around 20, with some variability observed.\n"
   ]
  }
 ],
 "metadata": {
  "kernelspec": {
   "display_name": "Python",
   "language": "python",
   "name": "conda-env-python-py"
  },
  "language_info": {
   "codemirror_mode": {
    "name": "ipython",
    "version": 3
   },
   "file_extension": ".py",
   "mimetype": "text/x-python",
   "name": "python",
   "nbconvert_exporter": "python",
   "pygments_lexer": "ipython3",
   "version": "3.7.12"
  }
 },
 "nbformat": 4,
 "nbformat_minor": 4
}
